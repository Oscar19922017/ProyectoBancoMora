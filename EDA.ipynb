{
 "cells": [
  {
   "cell_type": "markdown",
   "id": "1f109dc4-53ad-4ca2-bc12-268b5aa0e930",
   "metadata": {
    "tags": []
   },
   "source": [
    "# **1.Librerias**"
   ]
  },
  {
   "cell_type": "code",
   "execution_count": 48,
   "id": "75002b37-d797-4da6-9572-0feac9057ad9",
   "metadata": {},
   "outputs": [],
   "source": [
    "import pandas as pd\n",
    "import numpy as np\n",
    "import matplotlib.pyplot as plt\n",
    "import seaborn as sns\n",
    "import statsmodels.api as sms\n",
    "from scipy import stats\n",
    "pd.set_option('display.float_format', lambda x: '%.3f' % x)"
   ]
  },
  {
   "cell_type": "markdown",
   "id": "b51ca3be-630f-4ab2-9644-b4d56a22e970",
   "metadata": {},
   "source": [
    "# **2.Importar BD**"
   ]
  },
  {
   "cell_type": "code",
   "execution_count": 30,
   "id": "201dad1d-2ad8-47e2-b1f6-5c5901bb1eb9",
   "metadata": {},
   "outputs": [],
   "source": [
    "df= pd.read_csv(\"https://raw.githubusercontent.com/Oscar19922017/ProyectoBancoMora/main/BaseDepurada.csv\")"
   ]
  },
  {
   "cell_type": "code",
   "execution_count": 31,
   "id": "867d9c2d-db85-495a-b8f6-829a5b3de385",
   "metadata": {},
   "outputs": [
    {
     "data": {
      "text/html": [
       "<div>\n",
       "<style scoped>\n",
       "    .dataframe tbody tr th:only-of-type {\n",
       "        vertical-align: middle;\n",
       "    }\n",
       "\n",
       "    .dataframe tbody tr th {\n",
       "        vertical-align: top;\n",
       "    }\n",
       "\n",
       "    .dataframe thead th {\n",
       "        text-align: right;\n",
       "    }\n",
       "</style>\n",
       "<table border=\"1\" class=\"dataframe\">\n",
       "  <thead>\n",
       "    <tr style=\"text-align: right;\">\n",
       "      <th></th>\n",
       "      <th>ID</th>\n",
       "      <th>Monto Credito</th>\n",
       "      <th>Edad</th>\n",
       "      <th>PAY_0</th>\n",
       "      <th>PAY_2</th>\n",
       "      <th>PAY_3</th>\n",
       "      <th>PAY_4</th>\n",
       "      <th>PAY_5</th>\n",
       "      <th>PAY_6</th>\n",
       "      <th>BILL_AMT1</th>\n",
       "      <th>...</th>\n",
       "      <th>PAY_AMT2</th>\n",
       "      <th>PAY_AMT3</th>\n",
       "      <th>PAY_AMT4</th>\n",
       "      <th>PAY_AMT5</th>\n",
       "      <th>PAY_AMT6</th>\n",
       "      <th>Mora</th>\n",
       "      <th>GrupoEdad</th>\n",
       "      <th>Eduacion_Homo</th>\n",
       "      <th>GeneroHomo</th>\n",
       "      <th>EstadoHomo</th>\n",
       "    </tr>\n",
       "  </thead>\n",
       "  <tbody>\n",
       "    <tr>\n",
       "      <th>0</th>\n",
       "      <td>1</td>\n",
       "      <td>20000.000</td>\n",
       "      <td>24</td>\n",
       "      <td>2</td>\n",
       "      <td>2</td>\n",
       "      <td>-1</td>\n",
       "      <td>-1</td>\n",
       "      <td>-2</td>\n",
       "      <td>-2</td>\n",
       "      <td>3913.000</td>\n",
       "      <td>...</td>\n",
       "      <td>689.000</td>\n",
       "      <td>0.000</td>\n",
       "      <td>0.000</td>\n",
       "      <td>0.000</td>\n",
       "      <td>0.000</td>\n",
       "      <td>1</td>\n",
       "      <td>Joven</td>\n",
       "      <td>Universidad</td>\n",
       "      <td>Femenino</td>\n",
       "      <td>Casado</td>\n",
       "    </tr>\n",
       "    <tr>\n",
       "      <th>1</th>\n",
       "      <td>2</td>\n",
       "      <td>120000.000</td>\n",
       "      <td>26</td>\n",
       "      <td>-1</td>\n",
       "      <td>2</td>\n",
       "      <td>0</td>\n",
       "      <td>0</td>\n",
       "      <td>0</td>\n",
       "      <td>2</td>\n",
       "      <td>2682.000</td>\n",
       "      <td>...</td>\n",
       "      <td>1000.000</td>\n",
       "      <td>1000.000</td>\n",
       "      <td>1000.000</td>\n",
       "      <td>0.000</td>\n",
       "      <td>2000.000</td>\n",
       "      <td>1</td>\n",
       "      <td>Joven</td>\n",
       "      <td>Universidad</td>\n",
       "      <td>Femenino</td>\n",
       "      <td>Soltero</td>\n",
       "    </tr>\n",
       "    <tr>\n",
       "      <th>2</th>\n",
       "      <td>3</td>\n",
       "      <td>90000.000</td>\n",
       "      <td>34</td>\n",
       "      <td>0</td>\n",
       "      <td>0</td>\n",
       "      <td>0</td>\n",
       "      <td>0</td>\n",
       "      <td>0</td>\n",
       "      <td>0</td>\n",
       "      <td>29239.000</td>\n",
       "      <td>...</td>\n",
       "      <td>1500.000</td>\n",
       "      <td>1000.000</td>\n",
       "      <td>1000.000</td>\n",
       "      <td>1000.000</td>\n",
       "      <td>5000.000</td>\n",
       "      <td>0</td>\n",
       "      <td>Adulto</td>\n",
       "      <td>Universidad</td>\n",
       "      <td>Femenino</td>\n",
       "      <td>Soltero</td>\n",
       "    </tr>\n",
       "    <tr>\n",
       "      <th>3</th>\n",
       "      <td>4</td>\n",
       "      <td>50000.000</td>\n",
       "      <td>37</td>\n",
       "      <td>0</td>\n",
       "      <td>0</td>\n",
       "      <td>0</td>\n",
       "      <td>0</td>\n",
       "      <td>0</td>\n",
       "      <td>0</td>\n",
       "      <td>46990.000</td>\n",
       "      <td>...</td>\n",
       "      <td>2019.000</td>\n",
       "      <td>1200.000</td>\n",
       "      <td>1100.000</td>\n",
       "      <td>1069.000</td>\n",
       "      <td>1000.000</td>\n",
       "      <td>0</td>\n",
       "      <td>Adulto</td>\n",
       "      <td>Universidad</td>\n",
       "      <td>Femenino</td>\n",
       "      <td>Casado</td>\n",
       "    </tr>\n",
       "    <tr>\n",
       "      <th>4</th>\n",
       "      <td>5</td>\n",
       "      <td>50000.000</td>\n",
       "      <td>57</td>\n",
       "      <td>-1</td>\n",
       "      <td>0</td>\n",
       "      <td>-1</td>\n",
       "      <td>0</td>\n",
       "      <td>0</td>\n",
       "      <td>0</td>\n",
       "      <td>8617.000</td>\n",
       "      <td>...</td>\n",
       "      <td>36681.000</td>\n",
       "      <td>10000.000</td>\n",
       "      <td>9000.000</td>\n",
       "      <td>689.000</td>\n",
       "      <td>679.000</td>\n",
       "      <td>0</td>\n",
       "      <td>Adulto</td>\n",
       "      <td>Universidad</td>\n",
       "      <td>Masculino</td>\n",
       "      <td>Casado</td>\n",
       "    </tr>\n",
       "  </tbody>\n",
       "</table>\n",
       "<p>5 rows × 26 columns</p>\n",
       "</div>"
      ],
      "text/plain": [
       "   ID  Monto Credito  Edad  PAY_0  PAY_2  PAY_3  PAY_4  PAY_5  PAY_6  \\\n",
       "0   1      20000.000    24      2      2     -1     -1     -2     -2   \n",
       "1   2     120000.000    26     -1      2      0      0      0      2   \n",
       "2   3      90000.000    34      0      0      0      0      0      0   \n",
       "3   4      50000.000    37      0      0      0      0      0      0   \n",
       "4   5      50000.000    57     -1      0     -1      0      0      0   \n",
       "\n",
       "   BILL_AMT1  ...  PAY_AMT2  PAY_AMT3  PAY_AMT4  PAY_AMT5  PAY_AMT6  Mora  \\\n",
       "0   3913.000  ...   689.000     0.000     0.000     0.000     0.000     1   \n",
       "1   2682.000  ...  1000.000  1000.000  1000.000     0.000  2000.000     1   \n",
       "2  29239.000  ...  1500.000  1000.000  1000.000  1000.000  5000.000     0   \n",
       "3  46990.000  ...  2019.000  1200.000  1100.000  1069.000  1000.000     0   \n",
       "4   8617.000  ... 36681.000 10000.000  9000.000   689.000   679.000     0   \n",
       "\n",
       "   GrupoEdad  Eduacion_Homo  GeneroHomo  EstadoHomo  \n",
       "0      Joven    Universidad    Femenino      Casado  \n",
       "1      Joven    Universidad    Femenino     Soltero  \n",
       "2     Adulto    Universidad    Femenino     Soltero  \n",
       "3     Adulto    Universidad    Femenino      Casado  \n",
       "4     Adulto    Universidad   Masculino      Casado  \n",
       "\n",
       "[5 rows x 26 columns]"
      ]
     },
     "execution_count": 31,
     "metadata": {},
     "output_type": "execute_result"
    }
   ],
   "source": [
    "df.head()"
   ]
  },
  {
   "cell_type": "code",
   "execution_count": 32,
   "id": "8021e529-becd-4c5e-a70a-f9c1bf492c31",
   "metadata": {},
   "outputs": [],
   "source": [
    "## Importar Variables\n",
    "Categoricas= pd.read_excel(\"https://raw.githubusercontent.com/Oscar19922017/ProyectoBancoMora/main/VariablesCategoricas.xlsx\")\n",
    "Numericas=pd.read_excel(\"https://raw.githubusercontent.com/Oscar19922017/ProyectoBancoMora/main/VariablesNumericas.xlsx\")"
   ]
  },
  {
   "cell_type": "code",
   "execution_count": 33,
   "id": "9373ec95-e3a7-4ab8-a208-15c6221cc924",
   "metadata": {},
   "outputs": [
    {
     "data": {
      "text/plain": [
       "['PAY_0',\n",
       " 'PAY_2',\n",
       " 'PAY_3',\n",
       " 'PAY_4',\n",
       " 'PAY_5',\n",
       " 'PAY_6',\n",
       " 'Mora',\n",
       " 'GrupoEdad',\n",
       " 'Eduacion_Homo',\n",
       " 'GeneroHomo',\n",
       " 'EstadoHomo']"
      ]
     },
     "execution_count": 33,
     "metadata": {},
     "output_type": "execute_result"
    }
   ],
   "source": [
    "Categoricas=Categoricas.Variable.tolist()\n",
    "Categoricas"
   ]
  },
  {
   "cell_type": "code",
   "execution_count": 34,
   "id": "e84f5438-571f-4f13-ba75-8801019c5574",
   "metadata": {},
   "outputs": [
    {
     "data": {
      "text/plain": [
       "['Monto Credito',\n",
       " 'Edad',\n",
       " 'BILL_AMT1',\n",
       " 'BILL_AMT2',\n",
       " 'BILL_AMT3',\n",
       " 'BILL_AMT4',\n",
       " 'BILL_AMT5',\n",
       " 'BILL_AMT6',\n",
       " 'PAY_AMT1',\n",
       " 'PAY_AMT2',\n",
       " 'PAY_AMT3',\n",
       " 'PAY_AMT4',\n",
       " 'PAY_AMT5',\n",
       " 'PAY_AMT6']"
      ]
     },
     "execution_count": 34,
     "metadata": {},
     "output_type": "execute_result"
    }
   ],
   "source": [
    "Numericas=Numericas.Variable.tolist()\n",
    "Numericas"
   ]
  },
  {
   "cell_type": "code",
   "execution_count": 35,
   "id": "dadc6435-ddea-426e-9072-a0a391c4f9cc",
   "metadata": {},
   "outputs": [
    {
     "data": {
      "text/html": [
       "<div>\n",
       "<style scoped>\n",
       "    .dataframe tbody tr th:only-of-type {\n",
       "        vertical-align: middle;\n",
       "    }\n",
       "\n",
       "    .dataframe tbody tr th {\n",
       "        vertical-align: top;\n",
       "    }\n",
       "\n",
       "    .dataframe thead th {\n",
       "        text-align: right;\n",
       "    }\n",
       "</style>\n",
       "<table border=\"1\" class=\"dataframe\">\n",
       "  <thead>\n",
       "    <tr style=\"text-align: right;\">\n",
       "      <th></th>\n",
       "      <th>PAY_0</th>\n",
       "      <th>PAY_2</th>\n",
       "      <th>PAY_3</th>\n",
       "      <th>PAY_4</th>\n",
       "      <th>PAY_5</th>\n",
       "      <th>PAY_6</th>\n",
       "      <th>Mora</th>\n",
       "      <th>GrupoEdad</th>\n",
       "      <th>Eduacion_Homo</th>\n",
       "      <th>GeneroHomo</th>\n",
       "      <th>EstadoHomo</th>\n",
       "    </tr>\n",
       "  </thead>\n",
       "  <tbody>\n",
       "    <tr>\n",
       "      <th>0</th>\n",
       "      <td>2</td>\n",
       "      <td>2</td>\n",
       "      <td>-1</td>\n",
       "      <td>-1</td>\n",
       "      <td>-2</td>\n",
       "      <td>-2</td>\n",
       "      <td>1</td>\n",
       "      <td>Joven</td>\n",
       "      <td>Universidad</td>\n",
       "      <td>Femenino</td>\n",
       "      <td>Casado</td>\n",
       "    </tr>\n",
       "    <tr>\n",
       "      <th>1</th>\n",
       "      <td>-1</td>\n",
       "      <td>2</td>\n",
       "      <td>0</td>\n",
       "      <td>0</td>\n",
       "      <td>0</td>\n",
       "      <td>2</td>\n",
       "      <td>1</td>\n",
       "      <td>Joven</td>\n",
       "      <td>Universidad</td>\n",
       "      <td>Femenino</td>\n",
       "      <td>Soltero</td>\n",
       "    </tr>\n",
       "    <tr>\n",
       "      <th>2</th>\n",
       "      <td>0</td>\n",
       "      <td>0</td>\n",
       "      <td>0</td>\n",
       "      <td>0</td>\n",
       "      <td>0</td>\n",
       "      <td>0</td>\n",
       "      <td>0</td>\n",
       "      <td>Adulto</td>\n",
       "      <td>Universidad</td>\n",
       "      <td>Femenino</td>\n",
       "      <td>Soltero</td>\n",
       "    </tr>\n",
       "    <tr>\n",
       "      <th>3</th>\n",
       "      <td>0</td>\n",
       "      <td>0</td>\n",
       "      <td>0</td>\n",
       "      <td>0</td>\n",
       "      <td>0</td>\n",
       "      <td>0</td>\n",
       "      <td>0</td>\n",
       "      <td>Adulto</td>\n",
       "      <td>Universidad</td>\n",
       "      <td>Femenino</td>\n",
       "      <td>Casado</td>\n",
       "    </tr>\n",
       "    <tr>\n",
       "      <th>4</th>\n",
       "      <td>-1</td>\n",
       "      <td>0</td>\n",
       "      <td>-1</td>\n",
       "      <td>0</td>\n",
       "      <td>0</td>\n",
       "      <td>0</td>\n",
       "      <td>0</td>\n",
       "      <td>Adulto</td>\n",
       "      <td>Universidad</td>\n",
       "      <td>Masculino</td>\n",
       "      <td>Casado</td>\n",
       "    </tr>\n",
       "    <tr>\n",
       "      <th>...</th>\n",
       "      <td>...</td>\n",
       "      <td>...</td>\n",
       "      <td>...</td>\n",
       "      <td>...</td>\n",
       "      <td>...</td>\n",
       "      <td>...</td>\n",
       "      <td>...</td>\n",
       "      <td>...</td>\n",
       "      <td>...</td>\n",
       "      <td>...</td>\n",
       "      <td>...</td>\n",
       "    </tr>\n",
       "    <tr>\n",
       "      <th>29995</th>\n",
       "      <td>0</td>\n",
       "      <td>0</td>\n",
       "      <td>0</td>\n",
       "      <td>0</td>\n",
       "      <td>0</td>\n",
       "      <td>0</td>\n",
       "      <td>0</td>\n",
       "      <td>Adulto</td>\n",
       "      <td>Bachiller</td>\n",
       "      <td>Masculino</td>\n",
       "      <td>Casado</td>\n",
       "    </tr>\n",
       "    <tr>\n",
       "      <th>29996</th>\n",
       "      <td>-1</td>\n",
       "      <td>-1</td>\n",
       "      <td>-1</td>\n",
       "      <td>-1</td>\n",
       "      <td>0</td>\n",
       "      <td>0</td>\n",
       "      <td>0</td>\n",
       "      <td>Adulto</td>\n",
       "      <td>Bachiller</td>\n",
       "      <td>Masculino</td>\n",
       "      <td>Soltero</td>\n",
       "    </tr>\n",
       "    <tr>\n",
       "      <th>29997</th>\n",
       "      <td>4</td>\n",
       "      <td>3</td>\n",
       "      <td>2</td>\n",
       "      <td>-1</td>\n",
       "      <td>0</td>\n",
       "      <td>0</td>\n",
       "      <td>1</td>\n",
       "      <td>Adulto</td>\n",
       "      <td>Universidad</td>\n",
       "      <td>Masculino</td>\n",
       "      <td>Soltero</td>\n",
       "    </tr>\n",
       "    <tr>\n",
       "      <th>29998</th>\n",
       "      <td>1</td>\n",
       "      <td>-1</td>\n",
       "      <td>0</td>\n",
       "      <td>0</td>\n",
       "      <td>0</td>\n",
       "      <td>-1</td>\n",
       "      <td>1</td>\n",
       "      <td>Adulto</td>\n",
       "      <td>Bachiller</td>\n",
       "      <td>Masculino</td>\n",
       "      <td>Casado</td>\n",
       "    </tr>\n",
       "    <tr>\n",
       "      <th>29999</th>\n",
       "      <td>0</td>\n",
       "      <td>0</td>\n",
       "      <td>0</td>\n",
       "      <td>0</td>\n",
       "      <td>0</td>\n",
       "      <td>0</td>\n",
       "      <td>1</td>\n",
       "      <td>Adulto</td>\n",
       "      <td>Universidad</td>\n",
       "      <td>Masculino</td>\n",
       "      <td>Casado</td>\n",
       "    </tr>\n",
       "  </tbody>\n",
       "</table>\n",
       "<p>30000 rows × 11 columns</p>\n",
       "</div>"
      ],
      "text/plain": [
       "       PAY_0  PAY_2  PAY_3  PAY_4  PAY_5  PAY_6  Mora GrupoEdad Eduacion_Homo  \\\n",
       "0          2      2     -1     -1     -2     -2     1     Joven   Universidad   \n",
       "1         -1      2      0      0      0      2     1     Joven   Universidad   \n",
       "2          0      0      0      0      0      0     0    Adulto   Universidad   \n",
       "3          0      0      0      0      0      0     0    Adulto   Universidad   \n",
       "4         -1      0     -1      0      0      0     0    Adulto   Universidad   \n",
       "...      ...    ...    ...    ...    ...    ...   ...       ...           ...   \n",
       "29995      0      0      0      0      0      0     0    Adulto     Bachiller   \n",
       "29996     -1     -1     -1     -1      0      0     0    Adulto     Bachiller   \n",
       "29997      4      3      2     -1      0      0     1    Adulto   Universidad   \n",
       "29998      1     -1      0      0      0     -1     1    Adulto     Bachiller   \n",
       "29999      0      0      0      0      0      0     1    Adulto   Universidad   \n",
       "\n",
       "      GeneroHomo EstadoHomo  \n",
       "0       Femenino     Casado  \n",
       "1       Femenino    Soltero  \n",
       "2       Femenino    Soltero  \n",
       "3       Femenino     Casado  \n",
       "4      Masculino     Casado  \n",
       "...          ...        ...  \n",
       "29995  Masculino     Casado  \n",
       "29996  Masculino    Soltero  \n",
       "29997  Masculino    Soltero  \n",
       "29998  Masculino     Casado  \n",
       "29999  Masculino     Casado  \n",
       "\n",
       "[30000 rows x 11 columns]"
      ]
     },
     "execution_count": 35,
     "metadata": {},
     "output_type": "execute_result"
    }
   ],
   "source": [
    "df[Categoricas]"
   ]
  },
  {
   "cell_type": "code",
   "execution_count": 36,
   "id": "eecb3b8d-50c4-48c6-89a8-b4c2a30430ed",
   "metadata": {},
   "outputs": [
    {
     "data": {
      "text/plain": [
       "(30000, 26)"
      ]
     },
     "execution_count": 36,
     "metadata": {},
     "output_type": "execute_result"
    }
   ],
   "source": [
    "df.shape"
   ]
  },
  {
   "cell_type": "markdown",
   "id": "9e9367b8-704c-4a81-8bed-73028e5d9712",
   "metadata": {},
   "source": [
    "# **3 Análisis Exploratorio y Descriptivo de Datos**"
   ]
  },
  {
   "cell_type": "markdown",
   "id": "82d3b5a7-b6e0-405f-9331-15deccf00279",
   "metadata": {},
   "source": [
    "## **Análisis Univariado: Numérico** "
   ]
  },
  {
   "cell_type": "code",
   "execution_count": 37,
   "id": "e55c6b16-38a6-4d1e-a428-f34d5b9d3144",
   "metadata": {},
   "outputs": [],
   "source": [
    "df_Numeric= df[Numericas]"
   ]
  },
  {
   "cell_type": "code",
   "execution_count": 38,
   "id": "9be73093-64ed-4737-91e4-b68ab27c54d5",
   "metadata": {},
   "outputs": [
    {
     "data": {
      "text/html": [
       "<div>\n",
       "<style scoped>\n",
       "    .dataframe tbody tr th:only-of-type {\n",
       "        vertical-align: middle;\n",
       "    }\n",
       "\n",
       "    .dataframe tbody tr th {\n",
       "        vertical-align: top;\n",
       "    }\n",
       "\n",
       "    .dataframe thead th {\n",
       "        text-align: right;\n",
       "    }\n",
       "</style>\n",
       "<table border=\"1\" class=\"dataframe\">\n",
       "  <thead>\n",
       "    <tr style=\"text-align: right;\">\n",
       "      <th></th>\n",
       "      <th>Monto Credito</th>\n",
       "      <th>Edad</th>\n",
       "      <th>BILL_AMT1</th>\n",
       "      <th>BILL_AMT2</th>\n",
       "      <th>BILL_AMT3</th>\n",
       "      <th>BILL_AMT4</th>\n",
       "      <th>BILL_AMT5</th>\n",
       "      <th>BILL_AMT6</th>\n",
       "      <th>PAY_AMT1</th>\n",
       "      <th>PAY_AMT2</th>\n",
       "      <th>PAY_AMT3</th>\n",
       "      <th>PAY_AMT4</th>\n",
       "      <th>PAY_AMT5</th>\n",
       "      <th>PAY_AMT6</th>\n",
       "    </tr>\n",
       "  </thead>\n",
       "  <tbody>\n",
       "    <tr>\n",
       "      <th>0</th>\n",
       "      <td>20000.000</td>\n",
       "      <td>24</td>\n",
       "      <td>3913.000</td>\n",
       "      <td>3102.000</td>\n",
       "      <td>689.000</td>\n",
       "      <td>0.000</td>\n",
       "      <td>0.000</td>\n",
       "      <td>0.000</td>\n",
       "      <td>0.000</td>\n",
       "      <td>689.000</td>\n",
       "      <td>0.000</td>\n",
       "      <td>0.000</td>\n",
       "      <td>0.000</td>\n",
       "      <td>0.000</td>\n",
       "    </tr>\n",
       "    <tr>\n",
       "      <th>1</th>\n",
       "      <td>120000.000</td>\n",
       "      <td>26</td>\n",
       "      <td>2682.000</td>\n",
       "      <td>1725.000</td>\n",
       "      <td>2682.000</td>\n",
       "      <td>3272.000</td>\n",
       "      <td>3455.000</td>\n",
       "      <td>3261.000</td>\n",
       "      <td>0.000</td>\n",
       "      <td>1000.000</td>\n",
       "      <td>1000.000</td>\n",
       "      <td>1000.000</td>\n",
       "      <td>0.000</td>\n",
       "      <td>2000.000</td>\n",
       "    </tr>\n",
       "    <tr>\n",
       "      <th>2</th>\n",
       "      <td>90000.000</td>\n",
       "      <td>34</td>\n",
       "      <td>29239.000</td>\n",
       "      <td>14027.000</td>\n",
       "      <td>13559.000</td>\n",
       "      <td>14331.000</td>\n",
       "      <td>14948.000</td>\n",
       "      <td>15549.000</td>\n",
       "      <td>1518.000</td>\n",
       "      <td>1500.000</td>\n",
       "      <td>1000.000</td>\n",
       "      <td>1000.000</td>\n",
       "      <td>1000.000</td>\n",
       "      <td>5000.000</td>\n",
       "    </tr>\n",
       "    <tr>\n",
       "      <th>3</th>\n",
       "      <td>50000.000</td>\n",
       "      <td>37</td>\n",
       "      <td>46990.000</td>\n",
       "      <td>48233.000</td>\n",
       "      <td>49291.000</td>\n",
       "      <td>28314.000</td>\n",
       "      <td>28959.000</td>\n",
       "      <td>29547.000</td>\n",
       "      <td>2000.000</td>\n",
       "      <td>2019.000</td>\n",
       "      <td>1200.000</td>\n",
       "      <td>1100.000</td>\n",
       "      <td>1069.000</td>\n",
       "      <td>1000.000</td>\n",
       "    </tr>\n",
       "    <tr>\n",
       "      <th>4</th>\n",
       "      <td>50000.000</td>\n",
       "      <td>57</td>\n",
       "      <td>8617.000</td>\n",
       "      <td>5670.000</td>\n",
       "      <td>35835.000</td>\n",
       "      <td>20940.000</td>\n",
       "      <td>19146.000</td>\n",
       "      <td>19131.000</td>\n",
       "      <td>2000.000</td>\n",
       "      <td>36681.000</td>\n",
       "      <td>10000.000</td>\n",
       "      <td>9000.000</td>\n",
       "      <td>689.000</td>\n",
       "      <td>679.000</td>\n",
       "    </tr>\n",
       "    <tr>\n",
       "      <th>...</th>\n",
       "      <td>...</td>\n",
       "      <td>...</td>\n",
       "      <td>...</td>\n",
       "      <td>...</td>\n",
       "      <td>...</td>\n",
       "      <td>...</td>\n",
       "      <td>...</td>\n",
       "      <td>...</td>\n",
       "      <td>...</td>\n",
       "      <td>...</td>\n",
       "      <td>...</td>\n",
       "      <td>...</td>\n",
       "      <td>...</td>\n",
       "      <td>...</td>\n",
       "    </tr>\n",
       "    <tr>\n",
       "      <th>29995</th>\n",
       "      <td>220000.000</td>\n",
       "      <td>39</td>\n",
       "      <td>188948.000</td>\n",
       "      <td>192815.000</td>\n",
       "      <td>208365.000</td>\n",
       "      <td>88004.000</td>\n",
       "      <td>31237.000</td>\n",
       "      <td>15980.000</td>\n",
       "      <td>8500.000</td>\n",
       "      <td>20000.000</td>\n",
       "      <td>5003.000</td>\n",
       "      <td>3047.000</td>\n",
       "      <td>5000.000</td>\n",
       "      <td>1000.000</td>\n",
       "    </tr>\n",
       "    <tr>\n",
       "      <th>29996</th>\n",
       "      <td>150000.000</td>\n",
       "      <td>43</td>\n",
       "      <td>1683.000</td>\n",
       "      <td>1828.000</td>\n",
       "      <td>3502.000</td>\n",
       "      <td>8979.000</td>\n",
       "      <td>5190.000</td>\n",
       "      <td>0.000</td>\n",
       "      <td>1837.000</td>\n",
       "      <td>3526.000</td>\n",
       "      <td>8998.000</td>\n",
       "      <td>129.000</td>\n",
       "      <td>0.000</td>\n",
       "      <td>0.000</td>\n",
       "    </tr>\n",
       "    <tr>\n",
       "      <th>29997</th>\n",
       "      <td>30000.000</td>\n",
       "      <td>37</td>\n",
       "      <td>3565.000</td>\n",
       "      <td>3356.000</td>\n",
       "      <td>2758.000</td>\n",
       "      <td>20878.000</td>\n",
       "      <td>20582.000</td>\n",
       "      <td>19357.000</td>\n",
       "      <td>0.000</td>\n",
       "      <td>0.000</td>\n",
       "      <td>22000.000</td>\n",
       "      <td>4200.000</td>\n",
       "      <td>2000.000</td>\n",
       "      <td>3100.000</td>\n",
       "    </tr>\n",
       "    <tr>\n",
       "      <th>29998</th>\n",
       "      <td>80000.000</td>\n",
       "      <td>41</td>\n",
       "      <td>-1645.000</td>\n",
       "      <td>78379.000</td>\n",
       "      <td>76304.000</td>\n",
       "      <td>52774.000</td>\n",
       "      <td>11855.000</td>\n",
       "      <td>48944.000</td>\n",
       "      <td>85900.000</td>\n",
       "      <td>3409.000</td>\n",
       "      <td>1178.000</td>\n",
       "      <td>1926.000</td>\n",
       "      <td>52964.000</td>\n",
       "      <td>1804.000</td>\n",
       "    </tr>\n",
       "    <tr>\n",
       "      <th>29999</th>\n",
       "      <td>50000.000</td>\n",
       "      <td>46</td>\n",
       "      <td>47929.000</td>\n",
       "      <td>48905.000</td>\n",
       "      <td>49764.000</td>\n",
       "      <td>36535.000</td>\n",
       "      <td>32428.000</td>\n",
       "      <td>15313.000</td>\n",
       "      <td>2078.000</td>\n",
       "      <td>1800.000</td>\n",
       "      <td>1430.000</td>\n",
       "      <td>1000.000</td>\n",
       "      <td>1000.000</td>\n",
       "      <td>1000.000</td>\n",
       "    </tr>\n",
       "  </tbody>\n",
       "</table>\n",
       "<p>30000 rows × 14 columns</p>\n",
       "</div>"
      ],
      "text/plain": [
       "       Monto Credito  Edad  BILL_AMT1  BILL_AMT2  BILL_AMT3  BILL_AMT4  \\\n",
       "0          20000.000    24   3913.000   3102.000    689.000      0.000   \n",
       "1         120000.000    26   2682.000   1725.000   2682.000   3272.000   \n",
       "2          90000.000    34  29239.000  14027.000  13559.000  14331.000   \n",
       "3          50000.000    37  46990.000  48233.000  49291.000  28314.000   \n",
       "4          50000.000    57   8617.000   5670.000  35835.000  20940.000   \n",
       "...              ...   ...        ...        ...        ...        ...   \n",
       "29995     220000.000    39 188948.000 192815.000 208365.000  88004.000   \n",
       "29996     150000.000    43   1683.000   1828.000   3502.000   8979.000   \n",
       "29997      30000.000    37   3565.000   3356.000   2758.000  20878.000   \n",
       "29998      80000.000    41  -1645.000  78379.000  76304.000  52774.000   \n",
       "29999      50000.000    46  47929.000  48905.000  49764.000  36535.000   \n",
       "\n",
       "       BILL_AMT5  BILL_AMT6  PAY_AMT1  PAY_AMT2  PAY_AMT3  PAY_AMT4  PAY_AMT5  \\\n",
       "0          0.000      0.000     0.000   689.000     0.000     0.000     0.000   \n",
       "1       3455.000   3261.000     0.000  1000.000  1000.000  1000.000     0.000   \n",
       "2      14948.000  15549.000  1518.000  1500.000  1000.000  1000.000  1000.000   \n",
       "3      28959.000  29547.000  2000.000  2019.000  1200.000  1100.000  1069.000   \n",
       "4      19146.000  19131.000  2000.000 36681.000 10000.000  9000.000   689.000   \n",
       "...          ...        ...       ...       ...       ...       ...       ...   \n",
       "29995  31237.000  15980.000  8500.000 20000.000  5003.000  3047.000  5000.000   \n",
       "29996   5190.000      0.000  1837.000  3526.000  8998.000   129.000     0.000   \n",
       "29997  20582.000  19357.000     0.000     0.000 22000.000  4200.000  2000.000   \n",
       "29998  11855.000  48944.000 85900.000  3409.000  1178.000  1926.000 52964.000   \n",
       "29999  32428.000  15313.000  2078.000  1800.000  1430.000  1000.000  1000.000   \n",
       "\n",
       "       PAY_AMT6  \n",
       "0         0.000  \n",
       "1      2000.000  \n",
       "2      5000.000  \n",
       "3      1000.000  \n",
       "4       679.000  \n",
       "...         ...  \n",
       "29995  1000.000  \n",
       "29996     0.000  \n",
       "29997  3100.000  \n",
       "29998  1804.000  \n",
       "29999  1000.000  \n",
       "\n",
       "[30000 rows x 14 columns]"
      ]
     },
     "execution_count": 38,
     "metadata": {},
     "output_type": "execute_result"
    }
   ],
   "source": [
    "df_Numeric"
   ]
  },
  {
   "cell_type": "code",
   "execution_count": 39,
   "id": "9a693caf-1bb3-420f-92d2-005baf7609f3",
   "metadata": {},
   "outputs": [],
   "source": [
    "y=df_Numeric[\"Monto Credito\"]"
   ]
  },
  {
   "cell_type": "markdown",
   "id": "1497cce3-0aaf-460d-80ba-3d8ee4d0a1cd",
   "metadata": {},
   "source": [
    "### **Normalidad**"
   ]
  },
  {
   "cell_type": "code",
   "execution_count": 40,
   "id": "7a801842-9d53-4dd0-b539-81802d1d2f64",
   "metadata": {},
   "outputs": [
    {
     "data": {
      "text/plain": [
       "167484.32266666667"
      ]
     },
     "execution_count": 40,
     "metadata": {},
     "output_type": "execute_result"
    }
   ],
   "source": [
    "np.mean(y) # Validado Estadisticamente"
   ]
  },
  {
   "cell_type": "markdown",
   "id": "a9e308fb-8a12-49ac-b03c-f1c7b5f0ff52",
   "metadata": {},
   "source": [
    "#### **Análisis Grafico**\n",
    "\n",
    "* matplolib: https://matplotlib.org/stable/gallery/index.html\n",
    "* plotly : https://plotly.com/python/getting-started/\n",
    "* seaborn: https://seaborn.pydata.org/"
   ]
  },
  {
   "cell_type": "code",
   "execution_count": 41,
   "id": "66d341ea-4be0-49eb-ac04-3b500d8fc598",
   "metadata": {},
   "outputs": [
    {
     "data": {
      "image/png": "[encoded data removed]",
      "text/plain": [
       "<Figure size 720x360 with 1 Axes>"
      ]
     },
     "metadata": {
      "needs_background": "light"
     },
     "output_type": "display_data"
    }
   ],
   "source": [
    "plt.figure(figsize=(10,5))\n",
    "plt.hist(y)\n",
    "\n",
    "plt.show()"
   ]
  },
  {
   "cell_type": "code",
   "execution_count": 43,
   "id": "546371c0-890d-46c1-b579-d074c2993513",
   "metadata": {},
   "outputs": [
    {
     "name": "stdout",
     "output_type": "stream",
     "text": [
      "167484.32266666667\n"
     ]
    }
   ],
   "source": [
    "PromedioIncial= np.mean(y)\n",
    "print(PromedioIncial)"
   ]
  },
  {
   "cell_type": "markdown",
   "id": "6e99afa7-c3f2-4ac4-81ed-40205b6658e0",
   "metadata": {},
   "source": [
    "**Verificar Normalidad**\n",
    "\n",
    "Grafica Q-Q\n",
    "\n",
    "Gráfico Q-Q Los gráficos de cuantiles teóricos (Gráficos Q-Q). Estos gráficos comparan los cuantiles de la distribución observada con los cuantiles teóricos de una distribución normal con la misma media y desviación estándar que los datos. Cuanto más se aproximen los datos a una normal, más alineados están los puntos entorno a la recta."
   ]
  },
  {
   "cell_type": "code",
   "execution_count": 47,
   "id": "d37ab0a0-d21a-40c8-b9ee-5a3a5b160e24",
   "metadata": {},
   "outputs": [
    {
     "data": {
      "image/png": "[encoded data removed]",
      "text/plain": [
       "<Figure size 432x288 with 1 Axes>"
      ]
     },
     "metadata": {
      "needs_background": "light"
     },
     "output_type": "display_data"
    }
   ],
   "source": [
    "sms.qqplot(y,fit=True,line=\"q\");"
   ]
  },
  {
   "cell_type": "markdown",
   "id": "bd2318e3-0755-42db-a97d-f54b1ddc5a14",
   "metadata": {},
   "source": [
    "* desde la grafica de cuantiles, el monto del credito no parece ser normal"
   ]
  },
  {
   "cell_type": "markdown",
   "id": "52c822e2-fb3d-4aca-bad7-7380547c3413",
   "metadata": {},
   "source": [
    "**Test de Normalidad**\n",
    "\n",
    "* H0: El Monto del Otorgado a los clientes se comporta de forma normal\n",
    "* Ha: El Monto del Otorgado a los clientes No se comporta de forma normal\n",
    "\n",
    "alfa: significancia que puede ser del 5 o 10 %\n",
    "\n",
    "Generar un P valor\n",
    "\n",
    "* si p valor es menor alfa, Rechazamos h0, lo que indica que la variable no es normal\n",
    "\n",
    "\n",
    "Prueba de Shapiro-Wilk Shapiro-Wilk evalúa una muestra de datos y cuantifica la probabilidad de que los datos se extraigan de una distribución gaussiana, llamada así por Samuel Shapiro y Martin Wilk."
   ]
  },
  {
   "cell_type": "code",
   "execution_count": 49,
   "id": "94222a7f-8841-4048-b4db-415b768ce5cb",
   "metadata": {},
   "outputs": [
    {
     "name": "stderr",
     "output_type": "stream",
     "text": [
      "/Users/osgaspar/opt/anaconda3/envs/Personal/lib/python3.9/site-packages/scipy/stats/_morestats.py:1800: UserWarning: p-value may not be accurate for N > 5000.\n",
      "  warnings.warn(\"p-value may not be accurate for N > 5000.\")\n"
     ]
    }
   ],
   "source": [
    "stat,pvalor=stats.shapiro(y)"
   ]
  },
  {
   "cell_type": "code",
   "execution_count": 50,
   "id": "d92264cb-fd41-4848-afc2-a64150c3eeb1",
   "metadata": {},
   "outputs": [
    {
     "data": {
      "text/plain": [
       "0.0"
      ]
     },
     "execution_count": 50,
     "metadata": {},
     "output_type": "execute_result"
    }
   ],
   "source": [
    "pvalor"
   ]
  },
  {
   "cell_type": "markdown",
   "id": "ac981cb8-2b91-495e-9dba-da785ca03bbc",
   "metadata": {},
   "source": [
    "* Segun shapiro, el monto de credito no es Normal"
   ]
  },
  {
   "cell_type": "markdown",
   "id": "833ffde2-4b72-4fd4-9d2b-a30bc068334b",
   "metadata": {},
   "source": [
    "**Consecuencias de la falta de normalidad**\n",
    "\n",
    "El hecho de no poder asumir la normalidad influye principalmente en los test de hipótesis paramétricos (t-test, anova,…) y en los modelos de regresión. Las principales consecuencias de la falta de normalidad son:\n",
    "\n",
    "Los estimadores mínimo-cuadráticos no son eficientes (de mínima varianza).\n",
    "\n",
    "Los intervalos de confianza de los parámetros del modelo y los contrastes de significancia son solamente aproximados y no exactos.\n",
    "\n",
    "Los test estadísticos expuestos requieren que la población de la que procede la muestra tenga una distribución normal, no la muestra en sí. Si la muestra se distribuye de forma normal, se puede aceptar que así lo hace la población de origen. En el caso de que la muestra no se distribuya de forma normal pero se tenga certeza de que la población de origen sí lo hace, entonces, puede estar justificado aceptar los resultados obtenidos por los contrastes paramétricos como válidos.\n",
    "\n",
    "**Teorema del Limite Central**\n",
    "\n",
    "El teorema del límite central es un teorema fundamental de probabilidad y estadística. El teorema describe la distribución de la media de una muestra aleatoria proveniente de una población con varianza finita. Cuando el tamaño de la muestra es lo suficientemente grande, la distribución de las medias sigue aproximadamente una distribución normal."
   ]
  },
  {
   "cell_type": "markdown",
   "id": "6067692f-7c0b-475e-9616-a8316aec4a3f",
   "metadata": {},
   "source": [
    "## **Normalidad puede estar afectada por Datos Atipicos**"
   ]
  },
  {
   "cell_type": "markdown",
   "id": "219789ff-3ef6-4acf-9513-34882eab1fe6",
   "metadata": {},
   "source": [
    "**Detectar Datos Atípicos Univariado**"
   ]
  },
  {
   "cell_type": "markdown",
   "id": "fbce2df9-c6ff-4366-9b03-4d8212197d7b",
   "metadata": {},
   "source": [
    "**Boxplot**"
   ]
  },
  {
   "cell_type": "code",
   "execution_count": 56,
   "id": "acd7e388-5b4c-445f-ba59-004b92155e60",
   "metadata": {},
   "outputs": [
    {
     "data": {
      "image/png": "[encoded data removed]",
      "text/plain": [
       "<Figure size 432x288 with 1 Axes>"
      ]
     },
     "metadata": {
      "needs_background": "light"
     },
     "output_type": "display_data"
    }
   ],
   "source": [
    "sns.boxplot(x=y,color=\"blue\");"
   ]
  },
  {
   "cell_type": "code",
   "execution_count": 57,
   "id": "f283ece8-35cf-4126-a038-e35affc5523c",
   "metadata": {},
   "outputs": [
    {
     "data": {
      "image/png": "[encoded data removed]",
      "text/plain": [
       "<Figure size 432x288 with 1 Axes>"
      ]
     },
     "metadata": {
      "needs_background": "light"
     },
     "output_type": "display_data"
    }
   ],
   "source": [
    "## Grafico puntos\n",
    "plt.plot(y,\".\",color=\"darkblue\");"
   ]
  },
  {
   "cell_type": "code",
   "execution_count": 58,
   "id": "58a66f0d-a1cd-4c55-af6b-310394e141bf",
   "metadata": {},
   "outputs": [],
   "source": [
    "q1,q3=np.percentile(y,[25,75])"
   ]
  },
  {
   "cell_type": "code",
   "execution_count": 59,
   "id": "15e4ecaf-0ebe-4f24-b904-badedf7e27ef",
   "metadata": {},
   "outputs": [
    {
     "name": "stdout",
     "output_type": "stream",
     "text": [
      "25%: 50000.0 y 75% : 240000.0\n"
     ]
    }
   ],
   "source": [
    "print(f'25%: {q1} y 75% : {q3}')"
   ]
  },
  {
   "cell_type": "code",
   "execution_count": 64,
   "id": "f3375442-4be8-4e51-90fe-9a860afdf761",
   "metadata": {},
   "outputs": [],
   "source": [
    "RIC= q3-q1"
   ]
  },
  {
   "cell_type": "code",
   "execution_count": 74,
   "id": "a8866ff1-c436-4bfd-8195-3169d2118520",
   "metadata": {},
   "outputs": [
    {
     "data": {
      "text/plain": [
       "525000.0"
      ]
     },
     "execution_count": 74,
     "metadata": {},
     "output_type": "execute_result"
    }
   ],
   "source": [
    "LimiteSuperior=q3+1.5*(RIC)\n",
    "LimiteSuperior"
   ]
  },
  {
   "cell_type": "code",
   "execution_count": 75,
   "id": "f4dcbf5a-7954-4a06-a0ab-70c18439f093",
   "metadata": {},
   "outputs": [
    {
     "data": {
      "text/plain": [
       "-235000.0"
      ]
     },
     "execution_count": 75,
     "metadata": {},
     "output_type": "execute_result"
    }
   ],
   "source": [
    "LimiteInferior=q1-1.5*(RIC)\n",
    "LimiteInferior"
   ]
  },
  {
   "cell_type": "code",
   "execution_count": 76,
   "id": "b4cb8392-9bfb-4a0d-b3e6-43b53003d096",
   "metadata": {},
   "outputs": [
    {
     "data": {
      "image/png": "[encoded data removed]",
      "text/plain": [
       "<Figure size 432x288 with 1 Axes>"
      ]
     },
     "metadata": {
      "needs_background": "light"
     },
     "output_type": "display_data"
    }
   ],
   "source": [
    "plt.plot(y,\".\",color=\"darkblue\")\n",
    "plt.axhline(y=LimiteSuperior,color=\"red\")\n",
    "plt.axhline(y=LimiteInferior,color=\"red\");"
   ]
  },
  {
   "cell_type": "markdown",
   "id": "c1d80b86-54cf-4a39-8aa1-180acba57ae8",
   "metadata": {},
   "source": [
    "## **Clientes Atipicos con Monto Prestado**"
   ]
  },
  {
   "cell_type": "code",
   "execution_count": 77,
   "id": "edfefc5d-f2fa-4b2d-a312-73cd8fbfdafc",
   "metadata": {},
   "outputs": [],
   "source": [
    "df_MontoAtipicos= df[df[\"Monto Credito\"]> LimiteSuperior].reset_index(drop=True)"
   ]
  },
  {
   "cell_type": "code",
   "execution_count": 78,
   "id": "bb4c783d-b8d3-4045-a702-52a2f64850b3",
   "metadata": {},
   "outputs": [
    {
     "data": {
      "text/html": [
       "<div>\n",
       "<style scoped>\n",
       "    .dataframe tbody tr th:only-of-type {\n",
       "        vertical-align: middle;\n",
       "    }\n",
       "\n",
       "    .dataframe tbody tr th {\n",
       "        vertical-align: top;\n",
       "    }\n",
       "\n",
       "    .dataframe thead th {\n",
       "        text-align: right;\n",
       "    }\n",
       "</style>\n",
       "<table border=\"1\" class=\"dataframe\">\n",
       "  <thead>\n",
       "    <tr style=\"text-align: right;\">\n",
       "      <th></th>\n",
       "      <th>ID</th>\n",
       "      <th>Monto Credito</th>\n",
       "      <th>Edad</th>\n",
       "      <th>PAY_0</th>\n",
       "      <th>PAY_2</th>\n",
       "      <th>PAY_3</th>\n",
       "      <th>PAY_4</th>\n",
       "      <th>PAY_5</th>\n",
       "      <th>PAY_6</th>\n",
       "      <th>BILL_AMT1</th>\n",
       "      <th>...</th>\n",
       "      <th>PAY_AMT2</th>\n",
       "      <th>PAY_AMT3</th>\n",
       "      <th>PAY_AMT4</th>\n",
       "      <th>PAY_AMT5</th>\n",
       "      <th>PAY_AMT6</th>\n",
       "      <th>Mora</th>\n",
       "      <th>GrupoEdad</th>\n",
       "      <th>Eduacion_Homo</th>\n",
       "      <th>GeneroHomo</th>\n",
       "      <th>EstadoHomo</th>\n",
       "    </tr>\n",
       "  </thead>\n",
       "  <tbody>\n",
       "    <tr>\n",
       "      <th>0</th>\n",
       "      <td>13</td>\n",
       "      <td>630000.000</td>\n",
       "      <td>41</td>\n",
       "      <td>-1</td>\n",
       "      <td>0</td>\n",
       "      <td>-1</td>\n",
       "      <td>-1</td>\n",
       "      <td>-1</td>\n",
       "      <td>-1</td>\n",
       "      <td>12137.000</td>\n",
       "      <td>...</td>\n",
       "      <td>6500.000</td>\n",
       "      <td>6500.000</td>\n",
       "      <td>6500.000</td>\n",
       "      <td>2870.000</td>\n",
       "      <td>0.000</td>\n",
       "      <td>0</td>\n",
       "      <td>Adulto</td>\n",
       "      <td>Universidad</td>\n",
       "      <td>Femenino</td>\n",
       "      <td>Soltero</td>\n",
       "    </tr>\n",
       "    <tr>\n",
       "      <th>1</th>\n",
       "      <td>434</td>\n",
       "      <td>580000.000</td>\n",
       "      <td>36</td>\n",
       "      <td>0</td>\n",
       "      <td>0</td>\n",
       "      <td>0</td>\n",
       "      <td>0</td>\n",
       "      <td>0</td>\n",
       "      <td>0</td>\n",
       "      <td>159760.000</td>\n",
       "      <td>...</td>\n",
       "      <td>6565.000</td>\n",
       "      <td>5951.000</td>\n",
       "      <td>6006.000</td>\n",
       "      <td>5894.000</td>\n",
       "      <td>5946.000</td>\n",
       "      <td>0</td>\n",
       "      <td>Adulto</td>\n",
       "      <td>Posgrado</td>\n",
       "      <td>Femenino</td>\n",
       "      <td>Casado</td>\n",
       "    </tr>\n",
       "    <tr>\n",
       "      <th>2</th>\n",
       "      <td>452</td>\n",
       "      <td>600000.000</td>\n",
       "      <td>53</td>\n",
       "      <td>2</td>\n",
       "      <td>2</td>\n",
       "      <td>0</td>\n",
       "      <td>0</td>\n",
       "      <td>0</td>\n",
       "      <td>0</td>\n",
       "      <td>467150.000</td>\n",
       "      <td>...</td>\n",
       "      <td>18000.000</td>\n",
       "      <td>16000.000</td>\n",
       "      <td>16000.000</td>\n",
       "      <td>21000.000</td>\n",
       "      <td>20000.000</td>\n",
       "      <td>1</td>\n",
       "      <td>Adulto</td>\n",
       "      <td>Posgrado</td>\n",
       "      <td>Masculino</td>\n",
       "      <td>Casado</td>\n",
       "    </tr>\n",
       "    <tr>\n",
       "      <th>3</th>\n",
       "      <td>528</td>\n",
       "      <td>620000.000</td>\n",
       "      <td>45</td>\n",
       "      <td>2</td>\n",
       "      <td>2</td>\n",
       "      <td>0</td>\n",
       "      <td>0</td>\n",
       "      <td>0</td>\n",
       "      <td>0</td>\n",
       "      <td>160837.000</td>\n",
       "      <td>...</td>\n",
       "      <td>6200.000</td>\n",
       "      <td>6000.000</td>\n",
       "      <td>6000.000</td>\n",
       "      <td>6500.000</td>\n",
       "      <td>6000.000</td>\n",
       "      <td>1</td>\n",
       "      <td>Adulto</td>\n",
       "      <td>Universidad</td>\n",
       "      <td>Femenino</td>\n",
       "      <td>Casado</td>\n",
       "    </tr>\n",
       "    <tr>\n",
       "      <th>4</th>\n",
       "      <td>556</td>\n",
       "      <td>630000.000</td>\n",
       "      <td>47</td>\n",
       "      <td>0</td>\n",
       "      <td>0</td>\n",
       "      <td>0</td>\n",
       "      <td>-1</td>\n",
       "      <td>-1</td>\n",
       "      <td>-2</td>\n",
       "      <td>37850.000</td>\n",
       "      <td>...</td>\n",
       "      <td>1207.000</td>\n",
       "      <td>2632.000</td>\n",
       "      <td>8654.000</td>\n",
       "      <td>0.000</td>\n",
       "      <td>4981.000</td>\n",
       "      <td>0</td>\n",
       "      <td>Adulto</td>\n",
       "      <td>Universidad</td>\n",
       "      <td>Femenino</td>\n",
       "      <td>Casado</td>\n",
       "    </tr>\n",
       "  </tbody>\n",
       "</table>\n",
       "<p>5 rows × 26 columns</p>\n",
       "</div>"
      ],
      "text/plain": [
       "    ID  Monto Credito  Edad  PAY_0  PAY_2  PAY_3  PAY_4  PAY_5  PAY_6  \\\n",
       "0   13     630000.000    41     -1      0     -1     -1     -1     -1   \n",
       "1  434     580000.000    36      0      0      0      0      0      0   \n",
       "2  452     600000.000    53      2      2      0      0      0      0   \n",
       "3  528     620000.000    45      2      2      0      0      0      0   \n",
       "4  556     630000.000    47      0      0      0     -1     -1     -2   \n",
       "\n",
       "   BILL_AMT1  ...  PAY_AMT2  PAY_AMT3  PAY_AMT4  PAY_AMT5  PAY_AMT6  Mora  \\\n",
       "0  12137.000  ...  6500.000  6500.000  6500.000  2870.000     0.000     0   \n",
       "1 159760.000  ...  6565.000  5951.000  6006.000  5894.000  5946.000     0   \n",
       "2 467150.000  ... 18000.000 16000.000 16000.000 21000.000 20000.000     1   \n",
       "3 160837.000  ...  6200.000  6000.000  6000.000  6500.000  6000.000     1   \n",
       "4  37850.000  ...  1207.000  2632.000  8654.000     0.000  4981.000     0   \n",
       "\n",
       "   GrupoEdad  Eduacion_Homo  GeneroHomo  EstadoHomo  \n",
       "0     Adulto    Universidad    Femenino     Soltero  \n",
       "1     Adulto       Posgrado    Femenino      Casado  \n",
       "2     Adulto       Posgrado   Masculino      Casado  \n",
       "3     Adulto    Universidad    Femenino      Casado  \n",
       "4     Adulto    Universidad    Femenino      Casado  \n",
       "\n",
       "[5 rows x 26 columns]"
      ]
     },
     "execution_count": 78,
     "metadata": {},
     "output_type": "execute_result"
    }
   ],
   "source": [
    "df_MontoAtipicos.head()"
   ]
  },
  {
   "cell_type": "code",
   "execution_count": 79,
   "id": "f6ed200d-1f56-4688-ac96-52648c6449ea",
   "metadata": {},
   "outputs": [
    {
     "data": {
      "text/html": [
       "<div>\n",
       "<style scoped>\n",
       "    .dataframe tbody tr th:only-of-type {\n",
       "        vertical-align: middle;\n",
       "    }\n",
       "\n",
       "    .dataframe tbody tr th {\n",
       "        vertical-align: top;\n",
       "    }\n",
       "\n",
       "    .dataframe thead th {\n",
       "        text-align: right;\n",
       "    }\n",
       "</style>\n",
       "<table border=\"1\" class=\"dataframe\">\n",
       "  <thead>\n",
       "    <tr style=\"text-align: right;\">\n",
       "      <th></th>\n",
       "      <th>ID</th>\n",
       "      <th>Monto Credito</th>\n",
       "      <th>Edad</th>\n",
       "      <th>PAY_0</th>\n",
       "      <th>PAY_2</th>\n",
       "      <th>PAY_3</th>\n",
       "      <th>PAY_4</th>\n",
       "      <th>PAY_5</th>\n",
       "      <th>PAY_6</th>\n",
       "      <th>BILL_AMT1</th>\n",
       "      <th>...</th>\n",
       "      <th>BILL_AMT4</th>\n",
       "      <th>BILL_AMT5</th>\n",
       "      <th>BILL_AMT6</th>\n",
       "      <th>PAY_AMT1</th>\n",
       "      <th>PAY_AMT2</th>\n",
       "      <th>PAY_AMT3</th>\n",
       "      <th>PAY_AMT4</th>\n",
       "      <th>PAY_AMT5</th>\n",
       "      <th>PAY_AMT6</th>\n",
       "      <th>Mora</th>\n",
       "    </tr>\n",
       "  </thead>\n",
       "  <tbody>\n",
       "    <tr>\n",
       "      <th>count</th>\n",
       "      <td>167.000</td>\n",
       "      <td>167.000</td>\n",
       "      <td>167.000</td>\n",
       "      <td>167.000</td>\n",
       "      <td>167.000</td>\n",
       "      <td>167.000</td>\n",
       "      <td>167.000</td>\n",
       "      <td>167.000</td>\n",
       "      <td>167.000</td>\n",
       "      <td>167.000</td>\n",
       "      <td>...</td>\n",
       "      <td>167.000</td>\n",
       "      <td>167.000</td>\n",
       "      <td>167.000</td>\n",
       "      <td>167.000</td>\n",
       "      <td>167.000</td>\n",
       "      <td>167.000</td>\n",
       "      <td>167.000</td>\n",
       "      <td>167.000</td>\n",
       "      <td>167.000</td>\n",
       "      <td>167.000</td>\n",
       "    </tr>\n",
       "    <tr>\n",
       "      <th>mean</th>\n",
       "      <td>15589.898</td>\n",
       "      <td>617844.311</td>\n",
       "      <td>39.329</td>\n",
       "      <td>-0.317</td>\n",
       "      <td>-0.407</td>\n",
       "      <td>-0.431</td>\n",
       "      <td>-0.473</td>\n",
       "      <td>-0.461</td>\n",
       "      <td>-0.503</td>\n",
       "      <td>178937.994</td>\n",
       "      <td>...</td>\n",
       "      <td>156153.551</td>\n",
       "      <td>146738.246</td>\n",
       "      <td>144621.832</td>\n",
       "      <td>16107.186</td>\n",
       "      <td>16426.036</td>\n",
       "      <td>25239.599</td>\n",
       "      <td>17180.012</td>\n",
       "      <td>24235.844</td>\n",
       "      <td>22004.862</td>\n",
       "      <td>0.114</td>\n",
       "    </tr>\n",
       "    <tr>\n",
       "      <th>std</th>\n",
       "      <td>9362.862</td>\n",
       "      <td>72652.994</td>\n",
       "      <td>8.311</td>\n",
       "      <td>0.995</td>\n",
       "      <td>1.001</td>\n",
       "      <td>0.985</td>\n",
       "      <td>0.884</td>\n",
       "      <td>0.897</td>\n",
       "      <td>0.956</td>\n",
       "      <td>201947.125</td>\n",
       "      <td>...</td>\n",
       "      <td>185184.014</td>\n",
       "      <td>181685.088</td>\n",
       "      <td>170796.931</td>\n",
       "      <td>35164.308</td>\n",
       "      <td>36659.287</td>\n",
       "      <td>85733.151</td>\n",
       "      <td>48560.703</td>\n",
       "      <td>55419.014</td>\n",
       "      <td>48850.430</td>\n",
       "      <td>0.318</td>\n",
       "    </tr>\n",
       "    <tr>\n",
       "      <th>min</th>\n",
       "      <td>13.000</td>\n",
       "      <td>530000.000</td>\n",
       "      <td>28.000</td>\n",
       "      <td>-2.000</td>\n",
       "      <td>-2.000</td>\n",
       "      <td>-2.000</td>\n",
       "      <td>-2.000</td>\n",
       "      <td>-2.000</td>\n",
       "      <td>-2.000</td>\n",
       "      <td>-509.000</td>\n",
       "      <td>...</td>\n",
       "      <td>-2800.000</td>\n",
       "      <td>-261.000</td>\n",
       "      <td>-736.000</td>\n",
       "      <td>0.000</td>\n",
       "      <td>0.000</td>\n",
       "      <td>0.000</td>\n",
       "      <td>0.000</td>\n",
       "      <td>0.000</td>\n",
       "      <td>0.000</td>\n",
       "      <td>0.000</td>\n",
       "    </tr>\n",
       "    <tr>\n",
       "      <th>25%</th>\n",
       "      <td>6752.500</td>\n",
       "      <td>560000.000</td>\n",
       "      <td>32.500</td>\n",
       "      <td>-1.000</td>\n",
       "      <td>-1.000</td>\n",
       "      <td>-1.000</td>\n",
       "      <td>-1.000</td>\n",
       "      <td>-1.000</td>\n",
       "      <td>-1.000</td>\n",
       "      <td>12136.500</td>\n",
       "      <td>...</td>\n",
       "      <td>7114.000</td>\n",
       "      <td>6678.000</td>\n",
       "      <td>7839.500</td>\n",
       "      <td>2870.000</td>\n",
       "      <td>2450.000</td>\n",
       "      <td>2509.500</td>\n",
       "      <td>2032.500</td>\n",
       "      <td>2634.500</td>\n",
       "      <td>3000.000</td>\n",
       "      <td>0.000</td>\n",
       "    </tr>\n",
       "    <tr>\n",
       "      <th>50%</th>\n",
       "      <td>16102.000</td>\n",
       "      <td>600000.000</td>\n",
       "      <td>38.000</td>\n",
       "      <td>0.000</td>\n",
       "      <td>0.000</td>\n",
       "      <td>0.000</td>\n",
       "      <td>0.000</td>\n",
       "      <td>0.000</td>\n",
       "      <td>0.000</td>\n",
       "      <td>83707.000</td>\n",
       "      <td>...</td>\n",
       "      <td>60479.000</td>\n",
       "      <td>63218.000</td>\n",
       "      <td>67667.000</td>\n",
       "      <td>8229.000</td>\n",
       "      <td>8348.000</td>\n",
       "      <td>7721.000</td>\n",
       "      <td>7000.000</td>\n",
       "      <td>7253.000</td>\n",
       "      <td>7511.000</td>\n",
       "      <td>0.000</td>\n",
       "    </tr>\n",
       "    <tr>\n",
       "      <th>75%</th>\n",
       "      <td>23584.500</td>\n",
       "      <td>655000.000</td>\n",
       "      <td>45.000</td>\n",
       "      <td>0.000</td>\n",
       "      <td>0.000</td>\n",
       "      <td>0.000</td>\n",
       "      <td>0.000</td>\n",
       "      <td>0.000</td>\n",
       "      <td>0.000</td>\n",
       "      <td>338822.500</td>\n",
       "      <td>...</td>\n",
       "      <td>286203.500</td>\n",
       "      <td>249625.500</td>\n",
       "      <td>238365.000</td>\n",
       "      <td>17008.000</td>\n",
       "      <td>17154.500</td>\n",
       "      <td>15079.500</td>\n",
       "      <td>14500.000</td>\n",
       "      <td>17018.000</td>\n",
       "      <td>16993.500</td>\n",
       "      <td>0.000</td>\n",
       "    </tr>\n",
       "    <tr>\n",
       "      <th>max</th>\n",
       "      <td>29964.000</td>\n",
       "      <td>1000000.000</td>\n",
       "      <td>67.000</td>\n",
       "      <td>2.000</td>\n",
       "      <td>2.000</td>\n",
       "      <td>3.000</td>\n",
       "      <td>3.000</td>\n",
       "      <td>4.000</td>\n",
       "      <td>6.000</td>\n",
       "      <td>964511.000</td>\n",
       "      <td>...</td>\n",
       "      <td>891586.000</td>\n",
       "      <td>927171.000</td>\n",
       "      <td>961664.000</td>\n",
       "      <td>323014.000</td>\n",
       "      <td>401003.000</td>\n",
       "      <td>896040.000</td>\n",
       "      <td>528897.000</td>\n",
       "      <td>417990.000</td>\n",
       "      <td>422000.000</td>\n",
       "      <td>1.000</td>\n",
       "    </tr>\n",
       "  </tbody>\n",
       "</table>\n",
       "<p>8 rows × 22 columns</p>\n",
       "</div>"
      ],
      "text/plain": [
       "             ID  Monto Credito    Edad   PAY_0   PAY_2   PAY_3   PAY_4  \\\n",
       "count   167.000        167.000 167.000 167.000 167.000 167.000 167.000   \n",
       "mean  15589.898     617844.311  39.329  -0.317  -0.407  -0.431  -0.473   \n",
       "std    9362.862      72652.994   8.311   0.995   1.001   0.985   0.884   \n",
       "min      13.000     530000.000  28.000  -2.000  -2.000  -2.000  -2.000   \n",
       "25%    6752.500     560000.000  32.500  -1.000  -1.000  -1.000  -1.000   \n",
       "50%   16102.000     600000.000  38.000   0.000   0.000   0.000   0.000   \n",
       "75%   23584.500     655000.000  45.000   0.000   0.000   0.000   0.000   \n",
       "max   29964.000    1000000.000  67.000   2.000   2.000   3.000   3.000   \n",
       "\n",
       "        PAY_5   PAY_6  BILL_AMT1  ...  BILL_AMT4  BILL_AMT5  BILL_AMT6  \\\n",
       "count 167.000 167.000    167.000  ...    167.000    167.000    167.000   \n",
       "mean   -0.461  -0.503 178937.994  ... 156153.551 146738.246 144621.832   \n",
       "std     0.897   0.956 201947.125  ... 185184.014 181685.088 170796.931   \n",
       "min    -2.000  -2.000   -509.000  ...  -2800.000   -261.000   -736.000   \n",
       "25%    -1.000  -1.000  12136.500  ...   7114.000   6678.000   7839.500   \n",
       "50%     0.000   0.000  83707.000  ...  60479.000  63218.000  67667.000   \n",
       "75%     0.000   0.000 338822.500  ... 286203.500 249625.500 238365.000   \n",
       "max     4.000   6.000 964511.000  ... 891586.000 927171.000 961664.000   \n",
       "\n",
       "        PAY_AMT1   PAY_AMT2   PAY_AMT3   PAY_AMT4   PAY_AMT5   PAY_AMT6  \\\n",
       "count    167.000    167.000    167.000    167.000    167.000    167.000   \n",
       "mean   16107.186  16426.036  25239.599  17180.012  24235.844  22004.862   \n",
       "std    35164.308  36659.287  85733.151  48560.703  55419.014  48850.430   \n",
       "min        0.000      0.000      0.000      0.000      0.000      0.000   \n",
       "25%     2870.000   2450.000   2509.500   2032.500   2634.500   3000.000   \n",
       "50%     8229.000   8348.000   7721.000   7000.000   7253.000   7511.000   \n",
       "75%    17008.000  17154.500  15079.500  14500.000  17018.000  16993.500   \n",
       "max   323014.000 401003.000 896040.000 528897.000 417990.000 422000.000   \n",
       "\n",
       "         Mora  \n",
       "count 167.000  \n",
       "mean    0.114  \n",
       "std     0.318  \n",
       "min     0.000  \n",
       "25%     0.000  \n",
       "50%     0.000  \n",
       "75%     0.000  \n",
       "max     1.000  \n",
       "\n",
       "[8 rows x 22 columns]"
      ]
     },
     "execution_count": 79,
     "metadata": {},
     "output_type": "execute_result"
    }
   ],
   "source": [
    "df_MontoAtipicos.describe()"
   ]
  },
  {
   "cell_type": "code",
   "execution_count": 80,
   "id": "963baa95-82ff-4fe6-a557-451b77870b4a",
   "metadata": {},
   "outputs": [
    {
     "data": {
      "text/plain": [
       "(167, 26)"
      ]
     },
     "execution_count": 80,
     "metadata": {},
     "output_type": "execute_result"
    }
   ],
   "source": [
    "df_MontoAtipicos.shape"
   ]
  },
  {
   "cell_type": "code",
   "execution_count": 82,
   "id": "d3b40756-e80a-4319-95d7-143e94d4a1ea",
   "metadata": {},
   "outputs": [
    {
     "data": {
      "text/plain": [
       "0.5566666666666666"
      ]
     },
     "execution_count": 82,
     "metadata": {},
     "output_type": "execute_result"
    }
   ],
   "source": [
    "(167/30000)*100"
   ]
  },
  {
   "cell_type": "code",
   "execution_count": 83,
   "id": "9332f056-46e2-475a-9410-1c7c7bbaf1c1",
   "metadata": {},
   "outputs": [
    {
     "data": {
      "text/plain": [
       "0   0.886\n",
       "1   0.114\n",
       "Name: Mora, dtype: float64"
      ]
     },
     "execution_count": 83,
     "metadata": {},
     "output_type": "execute_result"
    }
   ],
   "source": [
    "df_MontoAtipicos.Mora.value_counts(normalize=True)"
   ]
  },
  {
   "cell_type": "code",
   "execution_count": 84,
   "id": "e3410c84-8a20-4dc5-aa3f-ca3fbc2a57b3",
   "metadata": {},
   "outputs": [
    {
     "data": {
      "image/png": "[encoded data removed]",
      "text/plain": [
       "<Figure size 720x360 with 1 Axes>"
      ]
     },
     "metadata": {
      "needs_background": "light"
     },
     "output_type": "display_data"
    }
   ],
   "source": [
    "plt.figure(figsize=(10,5))\n",
    "plt.hist(df_MontoAtipicos[\"Monto Credito\"])\n",
    "plt.show()"
   ]
  },
  {
   "cell_type": "code",
   "execution_count": 85,
   "id": "9e505647-8ffe-4dc8-8f71-6bbdaf1d98ae",
   "metadata": {},
   "outputs": [
    {
     "data": {
      "image/png": "[encoded data removed]",
      "text/plain": [
       "<Figure size 720x360 with 1 Axes>"
      ]
     },
     "metadata": {
      "needs_background": "light"
     },
     "output_type": "display_data"
    }
   ],
   "source": [
    "plt.figure(figsize=(10,5))\n",
    "plt.hist(df_MontoAtipicos.Edad)\n",
    "plt.show()"
   ]
  },
  {
   "cell_type": "code",
   "execution_count": 87,
   "id": "60124916-f111-4a15-9f87-b8b3058b9418",
   "metadata": {},
   "outputs": [
    {
     "data": {
      "text/plain": [
       "Adulto         0.862\n",
       "Joven          0.120\n",
       "Adulto Mayor   0.018\n",
       "Name: GrupoEdad, dtype: float64"
      ]
     },
     "execution_count": 87,
     "metadata": {},
     "output_type": "execute_result"
    }
   ],
   "source": [
    "df_MontoAtipicos.GrupoEdad.value_counts(normalize=True)"
   ]
  },
  {
   "cell_type": "code",
   "execution_count": 88,
   "id": "119ebb79-49d7-4327-bd19-de3a86dcdc7d",
   "metadata": {},
   "outputs": [
    {
     "data": {
      "text/plain": [
       "Posgrado      0.561\n",
       "Universidad   0.329\n",
       "Bachiller     0.104\n",
       "Otros         0.006\n",
       "Name: Eduacion_Homo, dtype: float64"
      ]
     },
     "execution_count": 88,
     "metadata": {},
     "output_type": "execute_result"
    }
   ],
   "source": [
    "df_MontoAtipicos.Eduacion_Homo.value_counts(normalize=True)"
   ]
  },
  {
   "cell_type": "code",
   "execution_count": 89,
   "id": "7a74596b-5635-4149-a025-a280dcc34e2e",
   "metadata": {},
   "outputs": [],
   "source": [
    "df_MontoAtipicos.to_excel(\"ClientesAtipicosMontoCredito.xlsx\")"
   ]
  },
  {
   "cell_type": "markdown",
   "id": "bf96d200-b630-4e85-b56c-59d63c363c1e",
   "metadata": {},
   "source": [
    "## **Clientes sin Atipicos con Monto Prestado**"
   ]
  },
  {
   "cell_type": "code",
   "execution_count": 90,
   "id": "5088a7b4-5978-4c4f-9b01-5cb6a2ae0b66",
   "metadata": {},
   "outputs": [],
   "source": [
    "df_Monto_Sin_Atipicos= df[df[\"Monto Credito\"]<= LimiteSuperior].reset_index(drop=True)"
   ]
  },
  {
   "cell_type": "code",
   "execution_count": 91,
   "id": "349fa9ce-e0db-4f0a-bfcc-709eea55cdb8",
   "metadata": {},
   "outputs": [
    {
     "data": {
      "text/html": [
       "<div>\n",
       "<style scoped>\n",
       "    .dataframe tbody tr th:only-of-type {\n",
       "        vertical-align: middle;\n",
       "    }\n",
       "\n",
       "    .dataframe tbody tr th {\n",
       "        vertical-align: top;\n",
       "    }\n",
       "\n",
       "    .dataframe thead th {\n",
       "        text-align: right;\n",
       "    }\n",
       "</style>\n",
       "<table border=\"1\" class=\"dataframe\">\n",
       "  <thead>\n",
       "    <tr style=\"text-align: right;\">\n",
       "      <th></th>\n",
       "      <th>ID</th>\n",
       "      <th>Monto Credito</th>\n",
       "      <th>Edad</th>\n",
       "      <th>PAY_0</th>\n",
       "      <th>PAY_2</th>\n",
       "      <th>PAY_3</th>\n",
       "      <th>PAY_4</th>\n",
       "      <th>PAY_5</th>\n",
       "      <th>PAY_6</th>\n",
       "      <th>BILL_AMT1</th>\n",
       "      <th>...</th>\n",
       "      <th>BILL_AMT4</th>\n",
       "      <th>BILL_AMT5</th>\n",
       "      <th>BILL_AMT6</th>\n",
       "      <th>PAY_AMT1</th>\n",
       "      <th>PAY_AMT2</th>\n",
       "      <th>PAY_AMT3</th>\n",
       "      <th>PAY_AMT4</th>\n",
       "      <th>PAY_AMT5</th>\n",
       "      <th>PAY_AMT6</th>\n",
       "      <th>Mora</th>\n",
       "    </tr>\n",
       "  </thead>\n",
       "  <tbody>\n",
       "    <tr>\n",
       "      <th>count</th>\n",
       "      <td>29833.000</td>\n",
       "      <td>29833.000</td>\n",
       "      <td>29833.000</td>\n",
       "      <td>29833.000</td>\n",
       "      <td>29833.000</td>\n",
       "      <td>29833.000</td>\n",
       "      <td>29833.000</td>\n",
       "      <td>29833.000</td>\n",
       "      <td>29833.000</td>\n",
       "      <td>29833.000</td>\n",
       "      <td>...</td>\n",
       "      <td>29833.000</td>\n",
       "      <td>29833.000</td>\n",
       "      <td>29833.000</td>\n",
       "      <td>29833.000</td>\n",
       "      <td>29833.000</td>\n",
       "      <td>29833.000</td>\n",
       "      <td>29833.000</td>\n",
       "      <td>29833.000</td>\n",
       "      <td>29833.000</td>\n",
       "      <td>29833.000</td>\n",
       "    </tr>\n",
       "    <tr>\n",
       "      <th>mean</th>\n",
       "      <td>14997.201</td>\n",
       "      <td>164963.285</td>\n",
       "      <td>35.464</td>\n",
       "      <td>-0.015</td>\n",
       "      <td>-0.132</td>\n",
       "      <td>-0.165</td>\n",
       "      <td>-0.219</td>\n",
       "      <td>-0.265</td>\n",
       "      <td>-0.290</td>\n",
       "      <td>50508.406</td>\n",
       "      <td>...</td>\n",
       "      <td>42631.007</td>\n",
       "      <td>39715.642</td>\n",
       "      <td>38279.790</td>\n",
       "      <td>5605.119</td>\n",
       "      <td>5862.359</td>\n",
       "      <td>5113.647</td>\n",
       "      <td>4756.922</td>\n",
       "      <td>4690.586</td>\n",
       "      <td>5121.519</td>\n",
       "      <td>0.222</td>\n",
       "    </tr>\n",
       "    <tr>\n",
       "      <th>std</th>\n",
       "      <td>8656.362</td>\n",
       "      <td>125529.100</td>\n",
       "      <td>9.218</td>\n",
       "      <td>1.124</td>\n",
       "      <td>1.198</td>\n",
       "      <td>1.198</td>\n",
       "      <td>1.170</td>\n",
       "      <td>1.134</td>\n",
       "      <td>1.151</td>\n",
       "      <td>71650.809</td>\n",
       "      <td>...</td>\n",
       "      <td>62444.528</td>\n",
       "      <td>58902.829</td>\n",
       "      <td>57803.698</td>\n",
       "      <td>16382.411</td>\n",
       "      <td>22929.331</td>\n",
       "      <td>16388.582</td>\n",
       "      <td>15258.488</td>\n",
       "      <td>14680.486</td>\n",
       "      <td>17405.222</td>\n",
       "      <td>0.415</td>\n",
       "    </tr>\n",
       "    <tr>\n",
       "      <th>min</th>\n",
       "      <td>1.000</td>\n",
       "      <td>10000.000</td>\n",
       "      <td>21.000</td>\n",
       "      <td>-2.000</td>\n",
       "      <td>-2.000</td>\n",
       "      <td>-2.000</td>\n",
       "      <td>-2.000</td>\n",
       "      <td>-2.000</td>\n",
       "      <td>-2.000</td>\n",
       "      <td>-165580.000</td>\n",
       "      <td>...</td>\n",
       "      <td>-170000.000</td>\n",
       "      <td>-81334.000</td>\n",
       "      <td>-339603.000</td>\n",
       "      <td>0.000</td>\n",
       "      <td>0.000</td>\n",
       "      <td>0.000</td>\n",
       "      <td>0.000</td>\n",
       "      <td>0.000</td>\n",
       "      <td>0.000</td>\n",
       "      <td>0.000</td>\n",
       "    </tr>\n",
       "    <tr>\n",
       "      <th>25%</th>\n",
       "      <td>7508.000</td>\n",
       "      <td>50000.000</td>\n",
       "      <td>28.000</td>\n",
       "      <td>-1.000</td>\n",
       "      <td>-1.000</td>\n",
       "      <td>-1.000</td>\n",
       "      <td>-1.000</td>\n",
       "      <td>-1.000</td>\n",
       "      <td>-1.000</td>\n",
       "      <td>3520.000</td>\n",
       "      <td>...</td>\n",
       "      <td>2310.000</td>\n",
       "      <td>1749.000</td>\n",
       "      <td>1240.000</td>\n",
       "      <td>1000.000</td>\n",
       "      <td>820.000</td>\n",
       "      <td>390.000</td>\n",
       "      <td>291.000</td>\n",
       "      <td>244.000</td>\n",
       "      <td>102.000</td>\n",
       "      <td>0.000</td>\n",
       "    </tr>\n",
       "    <tr>\n",
       "      <th>50%</th>\n",
       "      <td>14994.000</td>\n",
       "      <td>140000.000</td>\n",
       "      <td>34.000</td>\n",
       "      <td>0.000</td>\n",
       "      <td>0.000</td>\n",
       "      <td>0.000</td>\n",
       "      <td>0.000</td>\n",
       "      <td>0.000</td>\n",
       "      <td>0.000</td>\n",
       "      <td>22284.000</td>\n",
       "      <td>...</td>\n",
       "      <td>19002.000</td>\n",
       "      <td>18070.000</td>\n",
       "      <td>16990.000</td>\n",
       "      <td>2100.000</td>\n",
       "      <td>2005.000</td>\n",
       "      <td>1800.000</td>\n",
       "      <td>1500.000</td>\n",
       "      <td>1500.000</td>\n",
       "      <td>1500.000</td>\n",
       "      <td>0.000</td>\n",
       "    </tr>\n",
       "    <tr>\n",
       "      <th>75%</th>\n",
       "      <td>22487.000</td>\n",
       "      <td>240000.000</td>\n",
       "      <td>41.000</td>\n",
       "      <td>0.000</td>\n",
       "      <td>0.000</td>\n",
       "      <td>0.000</td>\n",
       "      <td>0.000</td>\n",
       "      <td>0.000</td>\n",
       "      <td>0.000</td>\n",
       "      <td>66604.000</td>\n",
       "      <td>...</td>\n",
       "      <td>53952.000</td>\n",
       "      <td>49939.000</td>\n",
       "      <td>48914.000</td>\n",
       "      <td>5001.000</td>\n",
       "      <td>5000.000</td>\n",
       "      <td>4500.000</td>\n",
       "      <td>4000.000</td>\n",
       "      <td>4000.000</td>\n",
       "      <td>4000.000</td>\n",
       "      <td>0.000</td>\n",
       "    </tr>\n",
       "    <tr>\n",
       "      <th>max</th>\n",
       "      <td>30000.000</td>\n",
       "      <td>520000.000</td>\n",
       "      <td>79.000</td>\n",
       "      <td>8.000</td>\n",
       "      <td>8.000</td>\n",
       "      <td>8.000</td>\n",
       "      <td>8.000</td>\n",
       "      <td>8.000</td>\n",
       "      <td>8.000</td>\n",
       "      <td>653062.000</td>\n",
       "      <td>...</td>\n",
       "      <td>706864.000</td>\n",
       "      <td>587067.000</td>\n",
       "      <td>699944.000</td>\n",
       "      <td>873552.000</td>\n",
       "      <td>1684259.000</td>\n",
       "      <td>889043.000</td>\n",
       "      <td>621000.000</td>\n",
       "      <td>426529.000</td>\n",
       "      <td>528666.000</td>\n",
       "      <td>1.000</td>\n",
       "    </tr>\n",
       "  </tbody>\n",
       "</table>\n",
       "<p>8 rows × 22 columns</p>\n",
       "</div>"
      ],
      "text/plain": [
       "             ID  Monto Credito      Edad     PAY_0     PAY_2     PAY_3  \\\n",
       "count 29833.000      29833.000 29833.000 29833.000 29833.000 29833.000   \n",
       "mean  14997.201     164963.285    35.464    -0.015    -0.132    -0.165   \n",
       "std    8656.362     125529.100     9.218     1.124     1.198     1.198   \n",
       "min       1.000      10000.000    21.000    -2.000    -2.000    -2.000   \n",
       "25%    7508.000      50000.000    28.000    -1.000    -1.000    -1.000   \n",
       "50%   14994.000     140000.000    34.000     0.000     0.000     0.000   \n",
       "75%   22487.000     240000.000    41.000     0.000     0.000     0.000   \n",
       "max   30000.000     520000.000    79.000     8.000     8.000     8.000   \n",
       "\n",
       "          PAY_4     PAY_5     PAY_6   BILL_AMT1  ...   BILL_AMT4  BILL_AMT5  \\\n",
       "count 29833.000 29833.000 29833.000   29833.000  ...   29833.000  29833.000   \n",
       "mean     -0.219    -0.265    -0.290   50508.406  ...   42631.007  39715.642   \n",
       "std       1.170     1.134     1.151   71650.809  ...   62444.528  58902.829   \n",
       "min      -2.000    -2.000    -2.000 -165580.000  ... -170000.000 -81334.000   \n",
       "25%      -1.000    -1.000    -1.000    3520.000  ...    2310.000   1749.000   \n",
       "50%       0.000     0.000     0.000   22284.000  ...   19002.000  18070.000   \n",
       "75%       0.000     0.000     0.000   66604.000  ...   53952.000  49939.000   \n",
       "max       8.000     8.000     8.000  653062.000  ...  706864.000 587067.000   \n",
       "\n",
       "        BILL_AMT6   PAY_AMT1    PAY_AMT2   PAY_AMT3   PAY_AMT4   PAY_AMT5  \\\n",
       "count   29833.000  29833.000   29833.000  29833.000  29833.000  29833.000   \n",
       "mean    38279.790   5605.119    5862.359   5113.647   4756.922   4690.586   \n",
       "std     57803.698  16382.411   22929.331  16388.582  15258.488  14680.486   \n",
       "min   -339603.000      0.000       0.000      0.000      0.000      0.000   \n",
       "25%      1240.000   1000.000     820.000    390.000    291.000    244.000   \n",
       "50%     16990.000   2100.000    2005.000   1800.000   1500.000   1500.000   \n",
       "75%     48914.000   5001.000    5000.000   4500.000   4000.000   4000.000   \n",
       "max    699944.000 873552.000 1684259.000 889043.000 621000.000 426529.000   \n",
       "\n",
       "        PAY_AMT6      Mora  \n",
       "count  29833.000 29833.000  \n",
       "mean    5121.519     0.222  \n",
       "std    17405.222     0.415  \n",
       "min        0.000     0.000  \n",
       "25%      102.000     0.000  \n",
       "50%     1500.000     0.000  \n",
       "75%     4000.000     0.000  \n",
       "max   528666.000     1.000  \n",
       "\n",
       "[8 rows x 22 columns]"
      ]
     },
     "execution_count": 91,
     "metadata": {},
     "output_type": "execute_result"
    }
   ],
   "source": [
    "df_Monto_Sin_Atipicos.describe()"
   ]
  },
  {
   "cell_type": "code",
   "execution_count": 93,
   "id": "0a51dc81-236a-4dde-86f0-d3e1db5df951",
   "metadata": {},
   "outputs": [
    {
     "data": {
      "text/plain": [
       "164963.2849529045"
      ]
     },
     "execution_count": 93,
     "metadata": {},
     "output_type": "execute_result"
    }
   ],
   "source": [
    "PromedioSinAtipico=np.mean(df_Monto_Sin_Atipicos[\"Monto Credito\"])\n",
    "PromedioSinAtipico"
   ]
  },
  {
   "cell_type": "code",
   "execution_count": 94,
   "id": "f1643f7f-d6e9-48f3-97c7-13d22247a83d",
   "metadata": {},
   "outputs": [
    {
     "data": {
      "text/plain": [
       "167484.32266666667"
      ]
     },
     "execution_count": 94,
     "metadata": {},
     "output_type": "execute_result"
    }
   ],
   "source": [
    "PromedioIncial"
   ]
  },
  {
   "cell_type": "code",
   "execution_count": null,
   "id": "f799f7ba-ca8c-476b-8d8f-99da4df58207",
   "metadata": {},
   "outputs": [],
   "source": []
  }
 ],
 "metadata": {
  "kernelspec": {
   "display_name": "Python 3 (ipykernel)",
   "language": "python",
   "name": "python3"
  },
  "language_info": {
   "codemirror_mode": {
    "name": "ipython",
    "version": 3
   },
   "file_extension": ".py",
   "mimetype": "text/x-python",
   "name": "python",
   "nbconvert_exporter": "python",
   "pygments_lexer": "ipython3",
   "version": "3.9.12"
  }
 },
 "nbformat": 4,
 "nbformat_minor": 5
}
